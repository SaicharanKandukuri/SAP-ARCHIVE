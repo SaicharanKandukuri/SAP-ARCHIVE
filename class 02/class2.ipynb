{
 "cells": [
  {
   "cell_type": "markdown",
   "metadata": {},
   "source": [
    "> - Introduction to numpy\n",
    "> - Installation of numpy\n",
    "> - statistical Functions of numpy\n",
    "> - NumpyArray\n",
    "> - Case Study"
   ]
  },
  {
   "cell_type": "code",
   "execution_count": 8,
   "metadata": {},
   "outputs": [],
   "source": [
    "import numpy as np\n",
    "\n",
    "import copy\n",
    "\n",
    "# m function\n",
    "def m(buff, args=\"\"):\n",
    "    \"\"\"_summary_\n",
    "        A print() function wrapper for typing less words\n",
    "    \n",
    "    Args:\n",
    "        buff (_type_): _description_\n",
    "        args (str, optional): _description_. Defaults to \"\".\n",
    "    \"\"\"\n",
    "    print(buff,args)\n"
   ]
  },
  {
   "cell_type": "code",
   "execution_count": 23,
   "metadata": {},
   "outputs": [
    {
     "name": "stdout",
     "output_type": "stream",
     "text": [
      "[1 2 3] \n",
      "<class 'numpy.ndarray'> \n",
      "1 \n",
      "3 \n",
      "2.0 \n",
      "2.0 \n",
      "2 \n"
     ]
    }
   ],
   "source": [
    "gg = np.array(\n",
    "    [1,2,3]\n",
    ")\n",
    "m(gg)\n",
    "m(type(gg))\n",
    "m(np.amin(gg))      # min value in array\n",
    "m(np.amax(gg))      # max value in array\n",
    "m(np.mean(gg))      # mean of the array\n",
    "m(np.median(gg))    # median of array\n",
    "m(np.ptp(gg))\n",
    "# m(help(np.ptp))"
   ]
  },
  {
   "cell_type": "code",
   "execution_count": null,
   "metadata": {},
   "outputs": [],
   "source": []
  }
 ],
 "metadata": {
  "kernelspec": {
   "display_name": "Python 3.10.6 64-bit (windows store)",
   "language": "python",
   "name": "python3"
  },
  "language_info": {
   "codemirror_mode": {
    "name": "ipython",
    "version": 3
   },
   "file_extension": ".py",
   "mimetype": "text/x-python",
   "name": "python",
   "nbconvert_exporter": "python",
   "pygments_lexer": "ipython3",
   "version": "3.10.6"
  },
  "orig_nbformat": 4,
  "vscode": {
   "interpreter": {
    "hash": "6cf559187254a31f30bf1ff0a1a672a457a4cebab148e7a4e4f62c391fa43b1e"
   }
  }
 },
 "nbformat": 4,
 "nbformat_minor": 2
}
