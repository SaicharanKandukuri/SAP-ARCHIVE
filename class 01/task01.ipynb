{
 "cells": [
  {
   "cell_type": "markdown",
   "metadata": {},
   "source": [
    "1.write a program to convert temp in degree farenheit into celcius"
   ]
  },
  {
   "cell_type": "code",
   "execution_count": 1,
   "metadata": {},
   "outputs": [
    {
     "name": "stdout",
     "output_type": "stream",
     "text": [
      "0.0\n"
     ]
    }
   ],
   "source": [
    "print((int(input(\"Enter farenhite\")) - 32)* 5 / 9)"
   ]
  },
  {
   "cell_type": "code",
   "execution_count": 2,
   "metadata": {},
   "outputs": [
    {
     "name": "stdout",
     "output_type": "stream",
     "text": [
      "3 2\n",
      "2 3\n"
     ]
    }
   ],
   "source": [
    "a,b = 3,2\n",
    "print(a,b)\n",
    "t = a\n",
    "a = b\n",
    "b = t\n",
    "print(a,b)"
   ]
  },
  {
   "cell_type": "code",
   "execution_count": 3,
   "metadata": {},
   "outputs": [
    {
     "name": "stdout",
     "output_type": "stream",
     "text": [
      "2.8284271247461903\n"
     ]
    }
   ],
   "source": [
    "from math import sqrt\n",
    "\n",
    "\n",
    "x1,y1 = 3,4\n",
    "x2,y2 = 5,6\n",
    "# diffrence between x1,y1 and x2,y2\n",
    "print(sqrt((x1-x2)**2 + (y1-y2)**2))"
   ]
  },
  {
   "cell_type": "code",
   "execution_count": 4,
   "metadata": {},
   "outputs": [
    {
     "name": "stdout",
     "output_type": "stream",
     "text": [
      "10\n",
      "2\n",
      "(2, 4, 10, 1, 2, '3', 4, 5)\n",
      "(2, 4, 10)\n",
      "('3', 4)\n",
      "[2, 4, 10]\n",
      "False\n"
     ]
    }
   ],
   "source": [
    "tup1 = (2,4,10)\n",
    "print(max(tup1))\n",
    "print(min(tup1))\n",
    "\n",
    "tup2 = (1,2,\"3\",4,5)\n",
    "print(tup1 + tup2)\n",
    "\n",
    "tup3 = tup1\n",
    "print(tup3)\n",
    "\n",
    "print(tup2[2:-1])\n",
    "\n",
    "print(list(tup3))\n",
    "# compare two tuples\n",
    "print(tup1 == tup2)"
   ]
  },
  {
   "cell_type": "code",
   "execution_count": null,
   "metadata": {},
   "outputs": [],
   "source": []
  },
  {
   "cell_type": "code",
   "execution_count": 5,
   "metadata": {},
   "outputs": [
    {
     "name": "stdout",
     "output_type": "stream",
     "text": [
      "263130836933693530167218012160000000\n"
     ]
    }
   ],
   "source": [
    "import math\n",
    "print(math.factorial(int(input(\"Enter number\"))))"
   ]
  },
  {
   "cell_type": "code",
   "execution_count": 6,
   "metadata": {},
   "outputs": [
    {
     "name": "stdout",
     "output_type": "stream",
     "text": [
      "64\n"
     ]
    }
   ],
   "source": [
    "print((int(input(\"Enter number 1\")))+(int(input(\"Enter number 2\"))))"
   ]
  },
  {
   "cell_type": "code",
   "execution_count": 7,
   "metadata": {},
   "outputs": [
    {
     "name": "stdout",
     "output_type": "stream",
     "text": [
      "123\n"
     ]
    }
   ],
   "source": [
    "print(int(str(input(\"enter number\"))[::-1]))"
   ]
  },
  {
   "cell_type": "code",
   "execution_count": 8,
   "metadata": {},
   "outputs": [
    {
     "name": "stdout",
     "output_type": "stream",
     "text": [
      "Not palindrome\n"
     ]
    }
   ],
   "source": [
    "word = str(input(\"Enter word\"))\n",
    "if (word[::-1] == word):\n",
    "    print(\"Palindrome\")\n",
    "else:\n",
    "    print(\"Not palindrome\")"
   ]
  },
  {
   "cell_type": "code",
   "execution_count": 9,
   "metadata": {},
   "outputs": [
    {
     "name": "stdout",
     "output_type": "stream",
     "text": [
      "2 3 4 5 6 7 8 9 10 11 12 13 14 15 16 17 18 19 20 21 22 23 24 25 26 27 28 29 30 31 "
     ]
    }
   ],
   "source": [
    "ran = int(input(\"Enter number\"))\n",
    "\n",
    "for i in range(1,ran):\n",
    "    for j in range(1,i):\n",
    "        if i%j == 0:\n",
    "            print(i,end=\" \")\n",
    "        break"
   ]
  },
  {
   "cell_type": "code",
   "execution_count": 10,
   "metadata": {},
   "outputs": [
    {
     "data": {
      "text/plain": [
       "5"
      ]
     },
     "execution_count": 10,
     "metadata": {},
     "output_type": "execute_result"
    }
   ],
   "source": [
    "max(2,3,5)"
   ]
  },
  {
   "cell_type": "code",
   "execution_count": 11,
   "metadata": {},
   "outputs": [
    {
     "name": "stdout",
     "output_type": "stream",
     "text": [
      "0 1 1 2 3 5 8 13 21 34 55 89 144 233 377 610 987 1597 2584 4181 6765 10946 17711 28657 46368 75025 121393 196418 317811 514229 832040 1346269 "
     ]
    }
   ],
   "source": [
    "# fib series\n",
    "num = int(input(\"Enter number\"))\n",
    "n1,n2 = 0,1\n",
    "c = 0\n",
    "if num == 1:\n",
    "    print(n1)\n",
    "elif num <= 0:\n",
    "    print(\"Enter positive number\")\n",
    "else:\n",
    "    while c < num:\n",
    "        print(n1,end=\" \")\n",
    "        nth = n1 + n2\n",
    "        n1 = n2\n",
    "        n2 = nth\n",
    "        c += 1"
   ]
  },
  {
   "cell_type": "code",
   "execution_count": 12,
   "metadata": {},
   "outputs": [
    {
     "data": {
      "text/plain": [
       "<function id(obj, /)>"
      ]
     },
     "execution_count": 12,
     "metadata": {},
     "output_type": "execute_result"
    }
   ],
   "source": [
    "id "
   ]
  }
 ],
 "metadata": {
  "kernelspec": {
   "display_name": "Python 3.10.6 64-bit (windows store)",
   "language": "python",
   "name": "python3"
  },
  "language_info": {
   "codemirror_mode": {
    "name": "ipython",
    "version": 3
   },
   "file_extension": ".py",
   "mimetype": "text/x-python",
   "name": "python",
   "nbconvert_exporter": "python",
   "pygments_lexer": "ipython3",
   "version": "3.10.6"
  },
  "orig_nbformat": 4,
  "vscode": {
   "interpreter": {
    "hash": "6cf559187254a31f30bf1ff0a1a672a457a4cebab148e7a4e4f62c391fa43b1e"
   }
  }
 },
 "nbformat": 4,
 "nbformat_minor": 2
}
