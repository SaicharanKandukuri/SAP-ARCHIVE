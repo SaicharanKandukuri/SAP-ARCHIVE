{
 "cells": [
  {
   "cell_type": "code",
   "execution_count": null,
   "metadata": {},
   "outputs": [],
   "source": [
    "import copy\n",
    "\n",
    "# m function\n",
    "def m(buff, args=\"\"):\n",
    "    \"\"\"_summary_\n",
    "        A print() function wrapper for typing less words\n",
    "    \n",
    "    Args:\n",
    "        buff (_type_): _description_\n",
    "        args (str, optional): _description_. Defaults to \"\".\n",
    "    \"\"\"\n",
    "    print(buff,args)\n"
   ]
  },
  {
   "cell_type": "code",
   "execution_count": null,
   "metadata": {},
   "outputs": [],
   "source": [
    "x = 1\n",
    "y = 2\n",
    "g = x\n",
    "co = copy.deepcopy(x)\n",
    "\n",
    "## id => show mem location of a var\n",
    "print(f\"x={id(x)}, y={id(y)}, g={id(g)}, co={id(co)}\")"
   ]
  },
  {
   "cell_type": "code",
   "execution_count": null,
   "metadata": {},
   "outputs": [],
   "source": [
    "# var declrartion\n",
    "a = 1           # int\n",
    "b = 1.1         # float\n",
    "c = 1.e2        # complex number\n",
    "d = \"gg\"        # str\n",
    "e = [1,2]       # list\n",
    "g = (1,2)       # tuple\n",
    "f = {a: \"a\"}    # dic"
   ]
  },
  {
   "cell_type": "code",
   "execution_count": null,
   "metadata": {},
   "outputs": [],
   "source": [
    "# Indexing\n",
    "a1 = \"Never gonna give you up\"\n",
    "\n",
    "m(len(a1))     # lenth of charecter\n",
    "m(a1[0])       # first letter\n",
    "m(a1[-1])      # last letter\n",
    "m(a1[2:-1])    # 3rd letter to last letter\n",
    "m(a1[2:])      # when no second value its defaults to last value\n",
    "m(a1[-11:-7])  # \n",
    "m(a1[0:-23])   # range - 1 => maxx limit?"
   ]
  },
  {
   "cell_type": "code",
   "execution_count": null,
   "metadata": {},
   "outputs": [],
   "source": [
    "# dot format method\n",
    "m(\"{1}, {0}\".format(\"a\",a1))        # Based on index values\n",
    "m(\"{a}, {b}\".format(a=a1,b=\"a\"))    # Based on name values"
   ]
  },
  {
   "cell_type": "markdown",
   "metadata": {},
   "source": [
    "## The python lists\n",
    "\n",
    "```python\n",
    "list_of_numbers = [1, 2, 3, 4, 5]\n",
    "```"
   ]
  },
  {
   "cell_type": "code",
   "execution_count": 19,
   "metadata": {},
   "outputs": [
    {
     "name": "stdout",
     "output_type": "stream",
     "text": [
      "[1, 'A string', 1.1, (1+1j), 2, 3, 4] \n",
      "[1, 'A string', 1.1, (1+1j), 1, 'A string', 1.1, (1+1j)] \n"
     ]
    }
   ],
   "source": [
    "alist = [1, \"A string\", 1.1, 1+1j]\n",
    "blist = [2,3,4]\n",
    "\n",
    "# operation\n",
    "m(alist + blist)    # (+) concatenation\n",
    "m(alist * 2)        # (*) repetition"
   ]
  },
  {
   "cell_type": "code",
   "execution_count": 24,
   "metadata": {},
   "outputs": [
    {
     "name": "stdout",
     "output_type": "stream",
     "text": [
      "['sa', 'c'] \n",
      "gg \n"
     ]
    }
   ],
   "source": [
    "gg = \"saic\"\n",
    "m(gg.split(\"i\"))    # split string into list\n",
    "m(input(\"Enter your name: \"))"
   ]
  },
  {
   "cell_type": "code",
   "execution_count": 27,
   "metadata": {},
   "outputs": [
    {
     "name": "stdout",
     "output_type": "stream",
     "text": [
      "(1, 2, 3, 4, 5, 6) \n",
      "(1, 2, 3, 1, 2, 3) \n",
      "1 \n"
     ]
    }
   ],
   "source": [
    "# tuples\n",
    "tup1 = (1,2,3)\n",
    "tup2 = (4,5,6)\n",
    "\n",
    "# operation\n",
    "m(tup1 + tup2)\n",
    "m(tup1 * 2)\n",
    "\n",
    "m(tup1[0])"
   ]
  },
  {
   "cell_type": "code",
   "execution_count": 59,
   "metadata": {},
   "outputs": [
    {
     "name": "stdout",
     "output_type": "stream",
     "text": [
      "dict_values(['a', 'b', 'c']) \n",
      "b \n",
      "d \n",
      "{'k1': 'd', 2: 'b', 'k3': 'c', 'k6': 'e'} \n"
     ]
    }
   ],
   "source": [
    "# dictonary\n",
    "dict1 = {\"k1\": \"a\", 2: \"b\", \"k3\": \"c\"}\n",
    "\n",
    "m(dict1.values())   # values\n",
    "m(dict1[2])         # get value of key 2\n",
    "dict1[\"k1\"] = \"d\"   # update value\n",
    "m(dict1[\"k1\"])      # get value of key k1\n",
    "     # values\n",
    "# dict1.items()       # items\n",
    "dict1.setdefault(\"k6\", \"e\") # set default value if key not found\n",
    "# dict1.pop(\"k1\")      # remove key and value\n",
    "m(dict1)\n",
    "dict1.update({\"k7\": \"f\"}) # update dictonary"
   ]
  },
  {
   "cell_type": "code",
   "execution_count": 70,
   "metadata": {},
   "outputs": [
    {
     "name": "stdout",
     "output_type": "stream",
     "text": [
      "0\n"
     ]
    }
   ],
   "source": [
    "import os\n",
    "print(\n",
    "os.system(\"dir\"))"
   ]
  },
  {
   "cell_type": "markdown",
   "metadata": {},
   "source": []
  }
 ],
 "metadata": {
  "kernelspec": {
   "display_name": "Python 3.10.6 64-bit (windows store)",
   "language": "python",
   "name": "python3"
  },
  "language_info": {
   "codemirror_mode": {
    "name": "ipython",
    "version": 3
   },
   "file_extension": ".py",
   "mimetype": "text/x-python",
   "name": "python",
   "nbconvert_exporter": "python",
   "pygments_lexer": "ipython3",
   "version": "3.10.6"
  },
  "orig_nbformat": 4,
  "vscode": {
   "interpreter": {
    "hash": "6cf559187254a31f30bf1ff0a1a672a457a4cebab148e7a4e4f62c391fa43b1e"
   }
  }
 },
 "nbformat": 4,
 "nbformat_minor": 2
}
