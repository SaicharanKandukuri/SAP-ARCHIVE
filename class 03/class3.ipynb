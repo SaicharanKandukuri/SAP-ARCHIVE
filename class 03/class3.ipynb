{
 "cells": [
  {
   "cell_type": "code",
   "execution_count": 2,
   "metadata": {},
   "outputs": [],
   "source": [
    "import numpy as np\n",
    "\n",
    "# m function\n",
    "def m(buff, args=\"\"):\n",
    "    \"\"\"_summary_\n",
    "        A print() function wrapper for typing less words\n",
    "    \n",
    "    Args:\n",
    "        buff (_type_): _description_\n",
    "        args (str, optional): _description_. Defaults to \"\".\n",
    "    \"\"\"\n",
    "    print(buff,args)\n"
   ]
  },
  {
   "cell_type": "code",
   "execution_count": 3,
   "metadata": {},
   "outputs": [
    {
     "name": "stdout",
     "output_type": "stream",
     "text": [
      "[[1 2 3]\n",
      " [4 5 6]] \n",
      "2 \n",
      "(2, 3) \n",
      "<class 'numpy.ndarray'> \n",
      "<memory at 0x0000013E75494A00> \n",
      "int32 \n",
      "4 \n",
      "6 \n"
     ]
    }
   ],
   "source": [
    "# creating an array\n",
    "ara = np.array(\n",
    "    [[1,2,3],\n",
    "    [4,5,6]]\n",
    ")\n",
    "m(ara)\n",
    "m(ara.ndim)         # dimensions\n",
    "m(ara.shape)        # shape (rxc) [ r = rows, c = columns ]\n",
    "m(type(ara))        # numpy.ndarray\n",
    "m(ara.data)\n",
    "# m(help(ara.data))\n",
    "m(ara.dtype)        # array data type\n",
    "m(ara.itemsize)     # occupied memory by each item\n",
    "m(ara.size)        "
   ]
  },
  {
   "cell_type": "code",
   "execution_count": null,
   "metadata": {},
   "outputs": [],
   "source": [
    "arab = np.array(\n",
    "    [[1,2,3],\n",
    "    [4,5,6]],\n",
    "    dtype=np.float32\n",
    ")\n",
    "arac = np.array(\n",
    "    [[1,2,3],\n",
    "    [4,5,6]],\n",
    "    dtype=np.float64\n",
    ")\n",
    "arad = np.array(\n",
    "    [[1,2,3],\n",
    "    [4,5,6]],\n",
    "    dtype=np.complex64\n",
    ")\n",
    "arae = np.array(\n",
    "    [[1,2,3],\n",
    "    [4,5,6]],\n",
    "    dtype=np.complex128\n",
    ")\n",
    "\n",
    "m(arab.itemsize)    # float 32 = 4\n",
    "m(arac.itemsize)    # float 64 = 8\n",
    "m(arad.itemsize)    # complex 64 = 8\n",
    "m(arae.itemsize)    # complex 128 = 16\n",
    "\n",
    "m(arab)\n",
    "m(arac)\n",
    "m(arad)\n",
    "m(arae)\n"
   ]
  },
  {
   "cell_type": "code",
   "execution_count": 16,
   "metadata": {},
   "outputs": [
    {
     "name": "stdout",
     "output_type": "stream",
     "text": [
      "[ 6 15] \n",
      "[5 7 9] \n",
      "1 \n",
      "3.5 \n",
      "3.5 \n"
     ]
    }
   ],
   "source": [
    "# sum\n",
    "m(np.sum(ara, axis=1))\n",
    "m(np.sum(ara, axis=0))\n",
    "m(np.amin(ara))\n",
    "m(np.mean(ara))\n",
    "m(np.median(ara))"
   ]
  },
  {
   "cell_type": "code",
   "execution_count": 20,
   "metadata": {},
   "outputs": [
    {
     "name": "stdout",
     "output_type": "stream",
     "text": [
      "1.707825127659933 \n",
      "[1.5 1.5 1.5] \n",
      "[0.81649658 0.81649658] \n"
     ]
    }
   ],
   "source": [
    "m(np.std(ara))\n",
    "m(np.std(ara, axis=0))\n",
    "m(np.std(ara, axis=1))"
   ]
  },
  {
   "cell_type": "code",
   "execution_count": 22,
   "metadata": {},
   "outputs": [
    {
     "name": "stdout",
     "output_type": "stream",
     "text": [
      "3.5 \n",
      "Help on function average in module numpy:\n",
      "\n",
      "average(a, axis=None, weights=None, returned=False)\n",
      "    Compute the weighted average along the specified axis.\n",
      "    \n",
      "    Parameters\n",
      "    ----------\n",
      "    a : array_like\n",
      "        Array containing data to be averaged. If `a` is not an array, a\n",
      "        conversion is attempted.\n",
      "    axis : None or int or tuple of ints, optional\n",
      "        Axis or axes along which to average `a`.  The default,\n",
      "        axis=None, will average over all of the elements of the input array.\n",
      "        If axis is negative it counts from the last to the first axis.\n",
      "    \n",
      "        .. versionadded:: 1.7.0\n",
      "    \n",
      "        If axis is a tuple of ints, averaging is performed on all of the axes\n",
      "        specified in the tuple instead of a single axis or all the axes as\n",
      "        before.\n",
      "    weights : array_like, optional\n",
      "        An array of weights associated with the values in `a`. Each value in\n",
      "        `a` contributes to the average according to its associated weight.\n",
      "        The weights array can either be 1-D (in which case its length must be\n",
      "        the size of `a` along the given axis) or of the same shape as `a`.\n",
      "        If `weights=None`, then all data in `a` are assumed to have a\n",
      "        weight equal to one.  The 1-D calculation is::\n",
      "    \n",
      "            avg = sum(a * weights) / sum(weights)\n",
      "    \n",
      "        The only constraint on `weights` is that `sum(weights)` must not be 0.\n",
      "    returned : bool, optional\n",
      "        Default is `False`. If `True`, the tuple (`average`, `sum_of_weights`)\n",
      "        is returned, otherwise only the average is returned.\n",
      "        If `weights=None`, `sum_of_weights` is equivalent to the number of\n",
      "        elements over which the average is taken.\n",
      "    \n",
      "    Returns\n",
      "    -------\n",
      "    retval, [sum_of_weights] : array_type or double\n",
      "        Return the average along the specified axis. When `returned` is `True`,\n",
      "        return a tuple with the average as the first element and the sum\n",
      "        of the weights as the second element. `sum_of_weights` is of the\n",
      "        same type as `retval`. The result dtype follows a genereal pattern.\n",
      "        If `weights` is None, the result dtype will be that of `a` , or ``float64``\n",
      "        if `a` is integral. Otherwise, if `weights` is not None and `a` is non-\n",
      "        integral, the result type will be the type of lowest precision capable of\n",
      "        representing values of both `a` and `weights`. If `a` happens to be\n",
      "        integral, the previous rules still applies but the result dtype will\n",
      "        at least be ``float64``.\n",
      "    \n",
      "    Raises\n",
      "    ------\n",
      "    ZeroDivisionError\n",
      "        When all weights along axis are zero. See `numpy.ma.average` for a\n",
      "        version robust to this type of error.\n",
      "    TypeError\n",
      "        When the length of 1D `weights` is not the same as the shape of `a`\n",
      "        along axis.\n",
      "    \n",
      "    See Also\n",
      "    --------\n",
      "    mean\n",
      "    \n",
      "    ma.average : average for masked arrays -- useful if your data contains\n",
      "                 \"missing\" values\n",
      "    numpy.result_type : Returns the type that results from applying the\n",
      "                        numpy type promotion rules to the arguments.\n",
      "    \n",
      "    Examples\n",
      "    --------\n",
      "    >>> data = np.arange(1, 5)\n",
      "    >>> data\n",
      "    array([1, 2, 3, 4])\n",
      "    >>> np.average(data)\n",
      "    2.5\n",
      "    >>> np.average(np.arange(1, 11), weights=np.arange(10, 0, -1))\n",
      "    4.0\n",
      "    \n",
      "    >>> data = np.arange(6).reshape((3,2))\n",
      "    >>> data\n",
      "    array([[0, 1],\n",
      "           [2, 3],\n",
      "           [4, 5]])\n",
      "    >>> np.average(data, axis=1, weights=[1./4, 3./4])\n",
      "    array([0.75, 2.75, 4.75])\n",
      "    >>> np.average(data, weights=[1./4, 3./4])\n",
      "    Traceback (most recent call last):\n",
      "        ...\n",
      "    TypeError: Axis must be specified when shapes of a and weights differ.\n",
      "    \n",
      "    >>> a = np.ones(5, dtype=np.float128)\n",
      "    >>> w = np.ones(5, dtype=np.complex64)\n",
      "    >>> avg = np.average(a, weights=w)\n",
      "    >>> print(avg.dtype)\n",
      "    complex256\n",
      "\n",
      "None \n"
     ]
    }
   ],
   "source": [
    "m(np.average(ara))\n",
    "m(help(np.average))"
   ]
  },
  {
   "cell_type": "code",
   "execution_count": 35,
   "metadata": {},
   "outputs": [
    {
     "data": {
      "text/plain": [
       "array([1., 2., 3.])"
      ]
     },
     "execution_count": 35,
     "metadata": {},
     "output_type": "execute_result"
    }
   ],
   "source": [
    "np.percentile(ara,0,0)"
   ]
  },
  {
   "cell_type": "code",
   "execution_count": 42,
   "metadata": {},
   "outputs": [
    {
     "data": {
      "text/plain": [
       "array([2, 2])"
      ]
     },
     "execution_count": 42,
     "metadata": {},
     "output_type": "execute_result"
    }
   ],
   "source": [
    "np.ptp(ara,1)"
   ]
  },
  {
   "cell_type": "code",
   "execution_count": 46,
   "metadata": {},
   "outputs": [
    {
     "name": "stdout",
     "output_type": "stream",
     "text": [
      "[[1 2 3]\n",
      " [4 5 6]] \n",
      "[[1 2]\n",
      " [3 4]\n",
      " [5 6]] \n"
     ]
    }
   ],
   "source": [
    "res = ara.reshape(3,2)\n",
    "m(ara)\n",
    "m(res)"
   ]
  }
 ],
 "metadata": {
  "kernelspec": {
   "display_name": "Python 3.10.6 64-bit (windows store)",
   "language": "python",
   "name": "python3"
  },
  "language_info": {
   "codemirror_mode": {
    "name": "ipython",
    "version": 3
   },
   "file_extension": ".py",
   "mimetype": "text/x-python",
   "name": "python",
   "nbconvert_exporter": "python",
   "pygments_lexer": "ipython3",
   "version": "3.10.6"
  },
  "orig_nbformat": 4,
  "vscode": {
   "interpreter": {
    "hash": "6cf559187254a31f30bf1ff0a1a672a457a4cebab148e7a4e4f62c391fa43b1e"
   }
  }
 },
 "nbformat": 4,
 "nbformat_minor": 2
}
